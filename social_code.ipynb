{
  "nbformat": 4,
  "nbformat_minor": 0,
  "metadata": {
    "colab": {
      "name": "social_code.ipynb",
      "provenance": [],
      "authorship_tag": "ABX9TyNXACltGzmIpGNddHnAXkBg",
      "include_colab_link": true
    },
    "kernelspec": {
      "name": "python3",
      "display_name": "Python 3"
    }
  },
  "cells": [
    {
      "cell_type": "markdown",
      "metadata": {
        "id": "view-in-github",
        "colab_type": "text"
      },
      "source": [
        "<a href=\"https://colab.research.google.com/github/DeisData/python-projects/blob/master/social_code.ipynb\" target=\"_parent\"><img src=\"https://colab.research.google.com/assets/colab-badge.svg\" alt=\"Open In Colab\"/></a>"
      ]
    },
    {
      "cell_type": "markdown",
      "metadata": {
        "id": "Sas-CfI9Qm_Z",
        "colab_type": "text"
      },
      "source": [
        "# Social Code - Python\n",
        "\n",
        "> **All are welcome**\n",
        "\n",
        "\n",
        "### Tonight's Plan:\n",
        "- I will tackle Challenge 1 and Challenge 2, knowing that there can be lots of ways to solve a problem\n",
        "- I will participate by making suggestions to the group and listening to the ideas of others\n",
        "- I will contribute code and run a cell\n",
        "\n"
      ]
    },
    {
      "cell_type": "markdown",
      "metadata": {
        "id": "ap6rOBJ3UPKC",
        "colab_type": "text"
      },
      "source": [
        "### Challenge 1\n",
        "\n",
        "Useful References:"
      ]
    },
    {
      "cell_type": "code",
      "metadata": {
        "id": "vn1E3uPAQKUs",
        "colab_type": "code",
        "colab": {}
      },
      "source": [
        "x = 3\n"
      ],
      "execution_count": 2,
      "outputs": []
    },
    {
      "cell_type": "markdown",
      "metadata": {
        "id": "7bNl9XZdR-Ax",
        "colab_type": "text"
      },
      "source": [
        "### Challenge 2\n",
        "\n",
        "Useful References:\n"
      ]
    },
    {
      "cell_type": "code",
      "metadata": {
        "id": "RdJhE8R1SILa",
        "colab_type": "code",
        "colab": {}
      },
      "source": [
        "y = 4"
      ],
      "execution_count": 3,
      "outputs": []
    },
    {
      "cell_type": "markdown",
      "metadata": {
        "id": "VmvVCA51SKyI",
        "colab_type": "text"
      },
      "source": [
        "### Challenge 3\n",
        "Useful References: "
      ]
    },
    {
      "cell_type": "code",
      "metadata": {
        "id": "nMrfKc3hSPZN",
        "colab_type": "code",
        "colab": {}
      },
      "source": [
        ""
      ],
      "execution_count": null,
      "outputs": []
    }
  ]
}